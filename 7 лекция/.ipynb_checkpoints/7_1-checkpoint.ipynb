{
 "cells": [
  {
   "cell_type": "code",
   "execution_count": 1,
   "id": "53cb7d58",
   "metadata": {},
   "outputs": [
    {
     "name": "stdout",
     "output_type": "stream",
     "text": [
      "Amount of banks: 7\n",
      "Names of banks: q,w,e,r,t,y,u\n",
      "Banks summ: 3,2,1,5,6,4\n"
     ]
    },
    {
     "ename": "IndexError",
     "evalue": "tuple index out of range",
     "output_type": "error",
     "traceback": [
      "\u001b[1;31m---------------------------------------------------------------------------\u001b[0m",
      "\u001b[1;31mIndexError\u001b[0m                                Traceback (most recent call last)",
      "Input \u001b[1;32mIn [1]\u001b[0m, in \u001b[0;36m<cell line: 34>\u001b[1;34m()\u001b[0m\n\u001b[0;32m     32\u001b[0m     \u001b[38;5;28mprint\u001b[39m(\u001b[38;5;124m\"\u001b[39m\u001b[38;5;124mroute: \u001b[39m\u001b[38;5;124m\"\u001b[39m, \u001b[38;5;241m*\u001b[39mroute)\n\u001b[0;32m     34\u001b[0m \u001b[38;5;28;01mif\u001b[39;00m \u001b[38;5;18m__name__\u001b[39m \u001b[38;5;241m==\u001b[39m \u001b[38;5;124m\"\u001b[39m\u001b[38;5;124m__main__\u001b[39m\u001b[38;5;124m\"\u001b[39m:\n\u001b[1;32m---> 35\u001b[0m     \u001b[43mmain\u001b[49m\u001b[43m(\u001b[49m\u001b[43m)\u001b[49m\n",
      "Input \u001b[1;32mIn [1]\u001b[0m, in \u001b[0;36mmain\u001b[1;34m()\u001b[0m\n\u001b[0;32m      8\u001b[0m max_sum \u001b[38;5;241m=\u001b[39m []\n\u001b[0;32m     10\u001b[0m \u001b[38;5;28;01mfor\u001b[39;00m i \u001b[38;5;129;01min\u001b[39;00m \u001b[38;5;28mrange\u001b[39m(n):\n\u001b[1;32m---> 11\u001b[0m     street\u001b[38;5;241m.\u001b[39mappend((names[i], i \u001b[38;5;241m+\u001b[39m \u001b[38;5;241m1\u001b[39m, \u001b[43mb_summs\u001b[49m\u001b[43m[\u001b[49m\u001b[43mi\u001b[49m\u001b[43m]\u001b[49m))\n\u001b[0;32m     13\u001b[0m max_sum\u001b[38;5;241m.\u001b[39mappend([street[\u001b[38;5;241m0\u001b[39m][\u001b[38;5;241m2\u001b[39m],[street[\u001b[38;5;241m0\u001b[39m][\u001b[38;5;241m1\u001b[39m]]])\n\u001b[0;32m     14\u001b[0m \u001b[38;5;28;01mif\u001b[39;00m street[\u001b[38;5;241m1\u001b[39m][\u001b[38;5;241m2\u001b[39m] \u001b[38;5;241m>\u001b[39m street[\u001b[38;5;241m0\u001b[39m][\u001b[38;5;241m2\u001b[39m]:\n",
      "\u001b[1;31mIndexError\u001b[0m: tuple index out of range"
     ]
    }
   ],
   "source": [
    "def main():\n",
    "    n = int(input(\"Amount of banks: \"))\n",
    "    names = tuple(map(str, input(\"Names of banks: \").split(\",\")))\n",
    "    b_summs = tuple(map(int, input(\"Banks summ: \").split(\",\")))\n",
    "    street = list()\n",
    "    route = []\n",
    "    indexes = []\n",
    "    max_sum = []\n",
    "\n",
    "    for i in range(n):\n",
    "        street.append((names[i], i + 1, b_summs[i]))\n",
    "\n",
    "    max_sum.append([street[0][2],[street[0][1]]])\n",
    "    if street[1][2] > street[0][2]:\n",
    "        max_sum.append([street[1][2],[street[1][1]]])\n",
    "    else:\n",
    "        max_sum.append([street[0][2],[street[0][1]]])\n",
    "    \n",
    "    for i in range(2, len(street)):\n",
    "        if max_sum[i-1][0] > max_sum[i-2][0] + street[i][2]:\n",
    "            max_sum.append([max_sum[i-1][0], max_sum[i-1][1]])\n",
    "        else:\n",
    "            max_sum.append([max_sum[i-2][0] + street[i][2], max_sum[i-2][1] + [street[i][1]]])\n",
    "     \n",
    "    indexes = max_sum[-1][1]\n",
    "    \n",
    "    for e in indexes:\n",
    "        route.append(street[e - 1][0])\n",
    "    \n",
    "    print(\"bank sum: \", max_sum[-1][0])\n",
    "    print(\"indexes: \", *indexes)\n",
    "    print(\"route: \", *route)\n",
    "\n",
    "if __name__ == \"__main__\":\n",
    "    main()"
   ]
  },
  {
   "cell_type": "code",
   "execution_count": null,
   "id": "195e8b30",
   "metadata": {},
   "outputs": [],
   "source": []
  }
 ],
 "metadata": {
  "kernelspec": {
   "display_name": "Python 3 (ipykernel)",
   "language": "python",
   "name": "python3"
  },
  "language_info": {
   "codemirror_mode": {
    "name": "ipython",
    "version": 3
   },
   "file_extension": ".py",
   "mimetype": "text/x-python",
   "name": "python",
   "nbconvert_exporter": "python",
   "pygments_lexer": "ipython3",
   "version": "3.9.13"
  }
 },
 "nbformat": 4,
 "nbformat_minor": 5
}
