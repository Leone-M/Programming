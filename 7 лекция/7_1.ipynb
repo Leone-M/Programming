{
 "cells": [
  {
   "cell_type": "code",
   "execution_count": 11,
   "id": "53cb7d58",
   "metadata": {},
   "outputs": [
    {
     "name": "stdout",
     "output_type": "stream",
     "text": [
      "Amount of banks: 6\n",
      "Names of banks: q,w,e,r,t,y\n",
      "Banks summ: 7,1,2,6,1,7\n",
      "bank sum:  20\n",
      "indexes:  1 4 6\n",
      "route:  q r y\n"
     ]
    }
   ],
   "source": [
    "def main():\n",
    "    n = int(input(\"Amount of banks: \"))\n",
    "    names = tuple(map(str, input(\"Names of banks: \").split(\",\")))\n",
    "    b_summs = tuple(map(int, input(\"Banks summ: \").split(\",\")))\n",
    "    street = list()\n",
    "    route = []\n",
    "    indexes = []\n",
    "    max_sum = []\n",
    "\n",
    "    for i in range(n):\n",
    "        street.append((names[i], i + 1, b_summs[i]))\n",
    "\n",
    "    max_sum.append([street[0][2],[street[0][1]]])\n",
    "    if street[1][2] > street[0][2]:\n",
    "        max_sum.append([street[1][2],[street[1][1]]])\n",
    "    else:\n",
    "        max_sum.append([street[0][2],[street[0][1]]])\n",
    "    \n",
    "    for i in range(2, len(street)):\n",
    "        if max_sum[i-1][0] > max_sum[i-2][0] + street[i][2]:\n",
    "            max_sum.append([max_sum[i-1][0], max_sum[i-1][1]])\n",
    "        else:\n",
    "            max_sum.append([max_sum[i-2][0] + street[i][2], max_sum[i-2][1] + [street[i][1]]])\n",
    "     \n",
    "    indexes = max_sum[-1][1]\n",
    "    \n",
    "    for e in indexes:\n",
    "        route.append(street[e - 1][0])\n",
    "    \n",
    "    print(\"bank sum: \", max_sum[-1][0])\n",
    "    print(\"indexes: \", *indexes)\n",
    "    print(\"route: \", *route)\n",
    "\n",
    "if __name__ == \"__main__\":\n",
    "    main()"
   ]
  },
  {
   "cell_type": "code",
   "execution_count": null,
   "id": "195e8b30",
   "metadata": {},
   "outputs": [],
   "source": []
  }
 ],
 "metadata": {
  "kernelspec": {
   "display_name": "Python 3 (ipykernel)",
   "language": "python",
   "name": "python3"
  },
  "language_info": {
   "codemirror_mode": {
    "name": "ipython",
    "version": 3
   },
   "file_extension": ".py",
   "mimetype": "text/x-python",
   "name": "python",
   "nbconvert_exporter": "python",
   "pygments_lexer": "ipython3",
   "version": "3.9.13"
  }
 },
 "nbformat": 4,
 "nbformat_minor": 5
}
