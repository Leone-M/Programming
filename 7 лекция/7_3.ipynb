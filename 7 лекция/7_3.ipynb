{
 "cells": [
  {
   "cell_type": "code",
   "execution_count": null,
   "id": "197809d6",
   "metadata": {},
   "outputs": [],
   "source": [
    "def main():\n",
    "    #matrix = [[1, 2, 3],\n",
    "    #          [4, 5, 6],\n",
    "    #          [7, 8, 9]]\n",
    "\n",
    "    matrix = [[1,2,3,4],\n",
    "              [5,6,7,8],\n",
    "              [9,10,11,12]]\n",
    "\n",
    "    top, bot, right, left = 0, len(matrix) - 1, len(matrix[0]) - 1, 0\n",
    "\n",
    "    while top <= bot and left < right:\n",
    "        for i in range(left, right + 1):\n",
    "            print(matrix[top][i])\n",
    "        top += 1\n",
    "\n",
    "        for i in range(top, bot + 1):\n",
    "            print(matrix[i][right])\n",
    "\n",
    "        right -= 1\n",
    "\n",
    "        for i in range(right, left-1, -1):\n",
    "            if abs(right - (left-1)) != 1:\n",
    "                print(matrix[bot][i])\n",
    "        bot -= 1\n",
    "\n",
    "        for i in range(bot, top-1, -1):\n",
    "            print(matrix[i][left])\n",
    "        left += 1\n",
    "\n",
    "if __name__ == \"__main__\":\n",
    "    main()"
   ]
  }
 ],
 "metadata": {
  "kernelspec": {
   "display_name": "Python 3 (ipykernel)",
   "language": "python",
   "name": "python3"
  },
  "language_info": {
   "codemirror_mode": {
    "name": "ipython",
    "version": 3
   },
   "file_extension": ".py",
   "mimetype": "text/x-python",
   "name": "python",
   "nbconvert_exporter": "python",
   "pygments_lexer": "ipython3",
   "version": "3.9.13"
  }
 },
 "nbformat": 4,
 "nbformat_minor": 5
}
