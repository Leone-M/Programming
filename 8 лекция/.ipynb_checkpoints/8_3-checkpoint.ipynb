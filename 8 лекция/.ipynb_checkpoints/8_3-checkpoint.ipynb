{
 "cells": [
  {
   "cell_type": "code",
   "execution_count": null,
   "id": "388b7aa8",
   "metadata": {},
   "outputs": [
    {
     "name": "stdout",
     "output_type": "stream",
     "text": [
      "4, 3\n"
     ]
    }
   ],
   "source": [
    "def main():\n",
    "    cand, pack = list(map(int, input().replace(\" \", \"\").split(\",\")))\n",
    "\n",
    "    if cand == pack:\n",
    "        print(\"1\")\n",
    "    elif pack > cand:\n",
    "        print(\"no solution\")\n",
    "\n",
    "    def rec(n, k):\n",
    "        if n == k:\n",
    "            return 1\n",
    "        elif k == 0 or n == 0:\n",
    "            return 0\n",
    "        else:\n",
    "            return rec(n - 1, k - 1) + k * rec(n - 1, k)\n",
    "\n",
    "    print(rec(cand, pack))\n",
    "\n",
    "\n",
    "if __name__ == \"__main__\":\n",
    "    main()"
   ]
  },
  {
   "cell_type": "code",
   "execution_count": null,
   "id": "80e139a8",
   "metadata": {},
   "outputs": [],
   "source": []
  }
 ],
 "metadata": {
  "kernelspec": {
   "display_name": "Python 3 (ipykernel)",
   "language": "python",
   "name": "python3"
  },
  "language_info": {
   "codemirror_mode": {
    "name": "ipython",
    "version": 3
   },
   "file_extension": ".py",
   "mimetype": "text/x-python",
   "name": "python",
   "nbconvert_exporter": "python",
   "pygments_lexer": "ipython3",
   "version": "3.9.13"
  }
 },
 "nbformat": 4,
 "nbformat_minor": 5
}
