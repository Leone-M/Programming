{
 "cells": [
  {
   "cell_type": "code",
   "execution_count": null,
   "id": "c174c196",
   "metadata": {},
   "outputs": [],
   "source": [
    "def main():\n",
    "    list1, list2 = [0, 33, 37, 6, 10, 44, 13, 47, 16, 18, 22, 25], [1, 38, 48, 8, 41, 7, 12, 47, 16, 40, 20, 23, 25]\n",
    "\n",
    "    set1, set2 = set(list1), set(list2)\n",
    "\n",
    "    ans1 = list(set1.intersection(set2))\n",
    "    ans2 = list(set1.symmetric_difference(set2))\n",
    "    ans3 = list(set1.difference(set2))\n",
    "    ans4 = list(set2.difference(set1))\n",
    "\n",
    "    print(ans1)\n",
    "    print(ans2)\n",
    "    print(ans3)\n",
    "    print(ans4)\n",
    "\n",
    "if __name__ == \"__main__\":\n",
    "    main()"
   ]
  }
 ],
 "metadata": {
  "kernelspec": {
   "display_name": "Python 3 (ipykernel)",
   "language": "python",
   "name": "python3"
  },
  "language_info": {
   "codemirror_mode": {
    "name": "ipython",
    "version": 3
   },
   "file_extension": ".py",
   "mimetype": "text/x-python",
   "name": "python",
   "nbconvert_exporter": "python",
   "pygments_lexer": "ipython3",
   "version": "3.9.13"
  }
 },
 "nbformat": 4,
 "nbformat_minor": 5
}
