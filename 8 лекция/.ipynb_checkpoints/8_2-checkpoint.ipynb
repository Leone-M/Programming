{
 "cells": [
  {
   "cell_type": "code",
   "execution_count": 2,
   "id": "f7e69e69",
   "metadata": {},
   "outputs": [
    {
     "name": "stdout",
     "output_type": "stream",
     "text": [
      "in: [1, 2, 3, 4]\n",
      "out: [[1], [2], [1, 2], [3], [1, 3], [2, 3], [1, 2, 3], [4], [1, 4], [2, 4], [1, 2, 4], [3, 4], [1, 3, 4], [2, 3, 4], [1, 2, 3, 4]]\n",
      "len: 15\n"
     ]
    }
   ],
   "source": [
    "def main():\n",
    "    lst = [1, 2, 3, 4]\n",
    "    print(\"in: %s\" % lst)\n",
    "\n",
    "    # избавляюсь от повторений с помощью множеств\n",
    "    lst = set(lst)\n",
    "    lst = list(lst)\n",
    "\n",
    "    buf = [[]]\n",
    "\n",
    "    # т.к. повторения уже убраны списки получаются уникальными\n",
    "    for e in lst:\n",
    "        for i in range(len(buf)):\n",
    "            tmp = buf[i] + [e]\n",
    "            buf.append(tmp)\n",
    "\n",
    "    # убираю рабочий список требуемый для первых итераций for i\n",
    "    buf.pop(0)\n",
    "\n",
    "    print(\"out: %s\" % buf)\n",
    "    print(\"len: %i\" % len(buf))\n",
    "\n",
    "if __name__ == \"__main__\":\n",
    "    main()"
   ]
  },
  {
   "cell_type": "code",
   "execution_count": null,
   "id": "7ec45f8a",
   "metadata": {},
   "outputs": [],
   "source": []
  }
 ],
 "metadata": {
  "kernelspec": {
   "display_name": "Python 3 (ipykernel)",
   "language": "python",
   "name": "python3"
  },
  "language_info": {
   "codemirror_mode": {
    "name": "ipython",
    "version": 3
   },
   "file_extension": ".py",
   "mimetype": "text/x-python",
   "name": "python",
   "nbconvert_exporter": "python",
   "pygments_lexer": "ipython3",
   "version": "3.9.13"
  }
 },
 "nbformat": 4,
 "nbformat_minor": 5
}
