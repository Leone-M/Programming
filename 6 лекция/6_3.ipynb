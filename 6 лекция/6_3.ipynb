{
 "cells": [
  {
   "cell_type": "code",
   "execution_count": 1,
   "id": "c6f5ef4a",
   "metadata": {},
   "outputs": [
    {
     "name": "stdout",
     "output_type": "stream",
     "text": [
      "Введите элементы списка через запятую: a,a,\n",
      "[['a', 'a'], ['']]\n"
     ]
    }
   ],
   "source": [
    "import itertools\n",
    "\n",
    "def main():\n",
    "    inp = str(input(\"Введите элементы списка через запятую: \")).replace(\" \", \"\").split(\",\")\n",
    "    out = {str(sorted(inp[0])) : [inp[0]]}\n",
    "    j = 0\n",
    "    \n",
    "    for i in range(1, len(inp)):\n",
    "        if str(sorted(inp[i])) in out:\n",
    "            out[str(sorted(inp[i]))].append(inp[i])\n",
    "        else:\n",
    "            out[str(sorted(inp[i]))] = [inp[i]]\n",
    "            \n",
    "    out = [i for i in out.values()]\n",
    "    print(out)\n",
    "\n",
    "if __name__ == \"__main__\":\n",
    "    main()"
   ]
  },
  {
   "cell_type": "code",
   "execution_count": null,
   "id": "8014f087",
   "metadata": {},
   "outputs": [],
   "source": []
  }
 ],
 "metadata": {
  "kernelspec": {
   "display_name": "Python 3 (ipykernel)",
   "language": "python",
   "name": "python3"
  },
  "language_info": {
   "codemirror_mode": {
    "name": "ipython",
    "version": 3
   },
   "file_extension": ".py",
   "mimetype": "text/x-python",
   "name": "python",
   "nbconvert_exporter": "python",
   "pygments_lexer": "ipython3",
   "version": "3.9.13"
  }
 },
 "nbformat": 4,
 "nbformat_minor": 5
}
