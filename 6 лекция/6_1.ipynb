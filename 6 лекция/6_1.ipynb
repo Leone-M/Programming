{
 "cells": [
  {
   "cell_type": "code",
   "execution_count": null,
   "id": "ac2f926a",
   "metadata": {},
   "outputs": [
    {
     "name": "stdout",
     "output_type": "stream",
     "text": [
      "amount of nums: 6\n",
      "num: 4\n",
      "num: -5\n",
      "num: -7\n"
     ]
    }
   ],
   "source": [
    "def main():\n",
    "    n = int(input(\"amount of nums: \")) #\n",
    "\n",
    "    spisok = [] #изначальный список циферок\n",
    "    perebor = [] #для брутфорса)\n",
    "\n",
    "    # ввожу циферки\n",
    "    for i in range(n):\n",
    "        spisok.append(int(input(\"num: \")))\n",
    "\n",
    "    # целевое значение\n",
    "    c = int(input(\"point num: \"))\n",
    "\n",
    "    # ищу все возможные комбинации без повторов\n",
    "    for i in range(len(spisok)):\n",
    "        for j in range(i+1, len(spisok)):\n",
    "            for d in range(j+1, len(spisok)):\n",
    "                for f in range(d+1, len(spisok)):\n",
    "                    buf = [spisok[i], spisok[j], spisok[d], spisok[f]]\n",
    "                    perebor.append(buf)\n",
    "\n",
    "    # задаю список для сумм от этих комбинаций\n",
    "    celev = []\n",
    "\n",
    "    # ищу суммы комбинаций\n",
    "    for i in range(len(perebor)):\n",
    "        k = 0\n",
    "        for j in range(len(perebor[i])):\n",
    "            k += perebor[i][j]\n",
    "        celev.append(k)\n",
    "\n",
    "    # ищу сумму с минимальным отклонением от целевого значения\n",
    "    minim = 1000\n",
    "    ii = 0\n",
    "    for i in range(len(celev)):\n",
    "        if abs(c - celev[i]) < minim:\n",
    "            minim = abs(c - celev[i])\n",
    "            ii = i\n",
    "\n",
    "    # вывод\n",
    "    print(\"numbers: \", perebor[ii], \"\\nsumm: \", celev[ii])\n",
    "\n",
    "\n",
    "if __name__ == \"__main__\":\n",
    "    main()"
   ]
  },
  {
   "cell_type": "code",
   "execution_count": null,
   "id": "a5d6c699",
   "metadata": {},
   "outputs": [],
   "source": []
  }
 ],
 "metadata": {
  "kernelspec": {
   "display_name": "Python 3 (ipykernel)",
   "language": "python",
   "name": "python3"
  },
  "language_info": {
   "codemirror_mode": {
    "name": "ipython",
    "version": 3
   },
   "file_extension": ".py",
   "mimetype": "text/x-python",
   "name": "python",
   "nbconvert_exporter": "python",
   "pygments_lexer": "ipython3",
   "version": "3.9.13"
  }
 },
 "nbformat": 4,
 "nbformat_minor": 5
}
