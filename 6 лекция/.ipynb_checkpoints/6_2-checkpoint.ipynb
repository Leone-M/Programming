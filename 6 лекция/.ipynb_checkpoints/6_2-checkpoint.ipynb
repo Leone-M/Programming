{
 "cells": [
  {
   "cell_type": "code",
   "execution_count": null,
   "id": "140e32de",
   "metadata": {},
   "outputs": [],
   "source": [
    "def main():\n",
    "    arr = list(map(str, input().split(\",\")))\n",
    "    perebor = []\n",
    "\n",
    "    arr.sort()\n",
    "    while True:\n",
    "        perebor.append(list(arr))\n",
    "        j = len(arr) - 2\n",
    "        while j >= 0 and arr[j] >= arr[j + 1]:\n",
    "            j -= 1\n",
    "        if j < 0:\n",
    "            break\n",
    "        else:\n",
    "            i = j + 1\n",
    "            while i < len(arr) - 1 and arr[i + 1] > arr[j]:\n",
    "                i += 1\n",
    "            arr[i], arr[j] = arr[j], arr[i]\n",
    "            arr[j + 1:] = arr[j + 1:][::-1]\n",
    "\n",
    "    print(perebor)\n",
    "\n",
    "if __name__ == \"__main__\":\n",
    "    main()"
   ]
  }
 ],
 "metadata": {
  "kernelspec": {
   "display_name": "Python 3 (ipykernel)",
   "language": "python",
   "name": "python3"
  },
  "language_info": {
   "codemirror_mode": {
    "name": "ipython",
    "version": 3
   },
   "file_extension": ".py",
   "mimetype": "text/x-python",
   "name": "python",
   "nbconvert_exporter": "python",
   "pygments_lexer": "ipython3",
   "version": "3.9.13"
  }
 },
 "nbformat": 4,
 "nbformat_minor": 5
}
