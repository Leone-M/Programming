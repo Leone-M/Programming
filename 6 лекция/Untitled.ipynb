{
 "cells": [
  {
   "cell_type": "code",
   "execution_count": 27,
   "id": "a8a3a613",
   "metadata": {},
   "outputs": [
    {
     "name": "stdout",
     "output_type": "stream",
     "text": [
      "Введите элементы списка через запятую: qwe,eq\n",
      "['e', 'q', 'w']\n",
      "[[], [], []]\n"
     ]
    }
   ],
   "source": [
    "import itertools\n",
    "\n",
    "def main():\n",
    "    inp = str(input(\"Введите элементы списка через запятую: \")).split(\",\")\n",
    "    out = [[inp[0]]]\n",
    "    j = 0\n",
    "    \n",
    "    for i in range(1, len(inp)):\n",
    "        if sorted([inp[i]]) == sorted:\n",
    "            out[j].append(inp[i])\n",
    "        else:\n",
    "            out.append([])\n",
    "            j += 1\n",
    "            flags = str(sorted(inp[i]))\n",
    "            rzm = len(inp[i])\n",
    "            \n",
    "    print(out)\n",
    "\n",
    "if __name__ == \"__main__\":\n",
    "    main()"
   ]
  },
  {
   "cell_type": "code",
   "execution_count": null,
   "id": "f7688cb1",
   "metadata": {},
   "outputs": [],
   "source": []
  }
 ],
 "metadata": {
  "kernelspec": {
   "display_name": "Python 3 (ipykernel)",
   "language": "python",
   "name": "python3"
  },
  "language_info": {
   "codemirror_mode": {
    "name": "ipython",
    "version": 3
   },
   "file_extension": ".py",
   "mimetype": "text/x-python",
   "name": "python",
   "nbconvert_exporter": "python",
   "pygments_lexer": "ipython3",
   "version": "3.9.13"
  }
 },
 "nbformat": 4,
 "nbformat_minor": 5
}
