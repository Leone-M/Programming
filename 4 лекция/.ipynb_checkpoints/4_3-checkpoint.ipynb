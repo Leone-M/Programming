{
 "cells": [
  {
   "cell_type": "code",
   "execution_count": null,
   "id": "d43bf2fa",
   "metadata": {},
   "outputs": [],
   "source": [
    "def main():\n",
    "    stroka, kolvo = str(input()).split(\",\")\n",
    "    kolvo = int(kolvo)\n",
    "\n",
    "    fe = kolvo\n",
    "\n",
    "    fstroka = \"\"\n",
    "\n",
    "    for i in range(2, kolvo):\n",
    "        fe += 1\n",
    "    #print(\"fe: \", fe)\n",
    "\n",
    "    for f in range(0, kolvo):\n",
    "        stp = fe - f * 2\n",
    "        if (stp == 0):\n",
    "            stp = fe\n",
    "        j = f\n",
    "        while (j < len(stroka)):\n",
    "            if kolvo % 2 == 0:\n",
    "                fstroka += stroka[j]\n",
    "                if (j + stp < len(stroka)) and (stp != fe):\n",
    "                    fstroka += stroka[j + stp]\n",
    "                j += fe\n",
    "            else:\n",
    "                fstroka += stroka[j]\n",
    "                j += stp\n",
    "                print(\"j\", j)\n",
    "\n",
    "    print(fstroka)\n",
    "\n",
    "if __name__ == \"__main__\":\n",
    "    main()"
   ]
  }
 ],
 "metadata": {
  "kernelspec": {
   "display_name": "Python 3 (ipykernel)",
   "language": "python",
   "name": "python3"
  },
  "language_info": {
   "codemirror_mode": {
    "name": "ipython",
    "version": 3
   },
   "file_extension": ".py",
   "mimetype": "text/x-python",
   "name": "python",
   "nbconvert_exporter": "python",
   "pygments_lexer": "ipython3",
   "version": "3.9.13"
  }
 },
 "nbformat": 4,
 "nbformat_minor": 5
}
