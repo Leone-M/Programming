{
 "cells": [
  {
   "cell_type": "code",
   "execution_count": null,
   "id": "938bcc5d",
   "metadata": {},
   "outputs": [],
   "source": [
    "def main():\n",
    "    # Start your code\n",
    "    numb = list(map(str, input()))\n",
    "    buf = []\n",
    "\n",
    "    for i in range(len(numb) - 1, -1, -1):\n",
    "        buf.append(numb[i])\n",
    "\n",
    "    if (numb == buf):\n",
    "        print(True)\n",
    "    else:\n",
    "        print(False)\n",
    "\n",
    "    # End your code\n",
    "\n",
    "if __name__ == '__main__':\n",
    "    main()\n"
   ]
  }
 ],
 "metadata": {
  "kernelspec": {
   "display_name": "Python 3 (ipykernel)",
   "language": "python",
   "name": "python3"
  },
  "language_info": {
   "codemirror_mode": {
    "name": "ipython",
    "version": 3
   },
   "file_extension": ".py",
   "mimetype": "text/x-python",
   "name": "python",
   "nbconvert_exporter": "python",
   "pygments_lexer": "ipython3",
   "version": "3.9.13"
  }
 },
 "nbformat": 4,
 "nbformat_minor": 5
}
