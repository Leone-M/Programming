{
 "cells": [
  {
   "cell_type": "code",
   "execution_count": null,
   "id": "fd484876",
   "metadata": {},
   "outputs": [],
   "source": [
    "def main():\n",
    "    numb =  int(input())\n",
    "    if (numb > 127) or (numb < -128):\n",
    "        print(\"no solution\")\n",
    "    else:\n",
    "        numb = str(numb)\n",
    "        if numb[0] == \"-\":\n",
    "            numb = numb[1:]\n",
    "            if numb[-1] == \"0\":\n",
    "                numb = numb[1::-1]\n",
    "            else:\n",
    "                numb = numb[::-1]\n",
    "            if int(numb) > 128:\n",
    "                print(\"no solution\")\n",
    "            else:\n",
    "                print(\"-\" + numb)\n",
    "        else:\n",
    "            if numb[-1] == \"0\":\n",
    "                numb = numb[1::-1]\n",
    "            else:\n",
    "                numb = numb[::-1]\n",
    "            if int(numb) > 127:\n",
    "                print(\"no solution\")\n",
    "            else:\n",
    "                print(numb)\n",
    "\n",
    "\n",
    "\n",
    "if __name__ == '__main__':\n",
    "    main()"
   ]
  }
 ],
 "metadata": {
  "kernelspec": {
   "display_name": "Python 3 (ipykernel)",
   "language": "python",
   "name": "python3"
  },
  "language_info": {
   "codemirror_mode": {
    "name": "ipython",
    "version": 3
   },
   "file_extension": ".py",
   "mimetype": "text/x-python",
   "name": "python",
   "nbconvert_exporter": "python",
   "pygments_lexer": "ipython3",
   "version": "3.9.13"
  }
 },
 "nbformat": 4,
 "nbformat_minor": 5
}
