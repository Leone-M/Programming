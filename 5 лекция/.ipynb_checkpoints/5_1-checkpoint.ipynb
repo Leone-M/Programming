{
 "cells": [
  {
   "cell_type": "code",
   "execution_count": 7,
   "id": "33da2a38",
   "metadata": {},
   "outputs": [
    {
     "name": "stdout",
     "output_type": "stream",
     "text": [
      "dffd\n",
      "fd\n"
     ]
    }
   ],
   "source": [
    "def main():\n",
    "    stringprep = str(input())\n",
    "    stringfinal = \"\"\n",
    "    buf = []\n",
    "    mx = 0\n",
    "    cur = 0\n",
    "\n",
    "    i = 0\n",
    "    while i != len(stringprep):\n",
    "        if not (stringprep[i] in buf):\n",
    "            buf.append(stringprep[i])\n",
    "            cur += 1\n",
    "            if cur >= mx:\n",
    "                stringfinal = \"\"\n",
    "                for e in buf:\n",
    "                    stringfinal += e\n",
    "                mx = cur\n",
    "        else:\n",
    "            i = i - cur\n",
    "            buf = []\n",
    "            cur = 0\n",
    "        \n",
    "        i += 1\n",
    "\n",
    "    print(stringfinal)\n",
    "\n",
    "if __name__ == \"__main__\":\n",
    "    main()"
   ]
  },
  {
   "cell_type": "code",
   "execution_count": null,
   "id": "6dba1add",
   "metadata": {},
   "outputs": [],
   "source": []
  }
 ],
 "metadata": {
  "kernelspec": {
   "display_name": "Python 3 (ipykernel)",
   "language": "python",
   "name": "python3"
  },
  "language_info": {
   "codemirror_mode": {
    "name": "ipython",
    "version": 3
   },
   "file_extension": ".py",
   "mimetype": "text/x-python",
   "name": "python",
   "nbconvert_exporter": "python",
   "pygments_lexer": "ipython3",
   "version": "3.9.13"
  }
 },
 "nbformat": 4,
 "nbformat_minor": 5
}
