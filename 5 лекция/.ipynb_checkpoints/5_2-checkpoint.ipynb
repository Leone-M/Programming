{
 "cells": [
  {
   "cell_type": "code",
   "execution_count": null,
   "id": "2528c8ac",
   "metadata": {},
   "outputs": [],
   "source": [
    "def main():\n",
    "    stroka = str(input()).split()\n",
    "    stroka = stroka[::-1]\n",
    "    for i in range(len(stroka)):\n",
    "        stroka[i] = stroka[i].lower()\n",
    "    stroka[0] = stroka[0].capitalize()\n",
    "    print(\" \".join(stroka))\n",
    "\n",
    "if __name__ == \"__main__\":\n",
    "    main()"
   ]
  }
 ],
 "metadata": {
  "kernelspec": {
   "display_name": "Python 3 (ipykernel)",
   "language": "python",
   "name": "python3"
  },
  "language_info": {
   "codemirror_mode": {
    "name": "ipython",
    "version": 3
   },
   "file_extension": ".py",
   "mimetype": "text/x-python",
   "name": "python",
   "nbconvert_exporter": "python",
   "pygments_lexer": "ipython3",
   "version": "3.9.13"
  }
 },
 "nbformat": 4,
 "nbformat_minor": 5
}
