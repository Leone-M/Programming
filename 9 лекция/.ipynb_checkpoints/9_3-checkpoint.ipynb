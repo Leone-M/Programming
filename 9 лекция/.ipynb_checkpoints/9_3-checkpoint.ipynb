{
 "cells": [
  {
   "cell_type": "code",
   "execution_count": null,
   "id": "40e30974",
   "metadata": {},
   "outputs": [],
   "source": [
    "def main():\n",
    "    psbl_code = str(input())    # изначальный код\n",
    "\n",
    "    def get_pins(code):\n",
    "        code = str(code)\n",
    "        numpad = {\"1\": [\"1\", \"2\", \"4\"], \"2\": [\"1\", \"2\", \"3\", \"5\"], \"3\": [\"2\", \"3\", \"6\"], \"4\": [\"1\", \"4\", \"5\", \"7\"],\n",
    "                  \"5\": [\"2\", \"4\", \"5\", \"6\", \"8\"], \"6\": [\"3\", \"5\", \"6\", \"9\"], \"7\": [\"4\", \"7\", \"8\"],\n",
    "                  \"8\": [\"5\", \"7\", \"8\", \"9\", \"0\"], \"9\": [\"6\", \"8\", \"9\"]}\n",
    "\n",
    "        prop = [numpad[code[0]]] # будет использоваться для записи кодов во время перебора\n",
    "        j = 0 # счетчик для prop\n",
    "\n",
    "        for i in range(1, len(code)):\n",
    "            prop.append([])\n",
    "            for t in range(len(prop[i-1])):\n",
    "                for s in range(len(numpad[code[i]])):\n",
    "                    prop[i].append(prop[i-1][t] + numpad[code[i]][s])\n",
    "\n",
    "        return prop[-1]\n",
    "\n",
    "\n",
    "    print(get_pins(psbl_code))\n",
    "\n",
    "\n",
    "if __name__ == \"__main__\":\n",
    "    main()"
   ]
  }
 ],
 "metadata": {
  "kernelspec": {
   "display_name": "Python 3 (ipykernel)",
   "language": "python",
   "name": "python3"
  },
  "language_info": {
   "codemirror_mode": {
    "name": "ipython",
    "version": 3
   },
   "file_extension": ".py",
   "mimetype": "text/x-python",
   "name": "python",
   "nbconvert_exporter": "python",
   "pygments_lexer": "ipython3",
   "version": "3.9.13"
  }
 },
 "nbformat": 4,
 "nbformat_minor": 5
}
