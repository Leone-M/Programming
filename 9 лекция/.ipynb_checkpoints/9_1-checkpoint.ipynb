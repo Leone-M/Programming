{
 "cells": [
  {
   "cell_type": "code",
   "execution_count": 6,
   "id": "918f2cbd",
   "metadata": {},
   "outputs": [
    {
     "name": "stdout",
     "output_type": "stream",
     "text": [
      "Кол-во пользователей: 2\n",
      "Имя: q\n",
      "Фамилия: w\n",
      "Почтовый индекс: 123\n",
      "Имя: e\n",
      "Фамилия: r\n",
      "Почтовый индекс: \n",
      "{'q w': '123', 'e r': None}\n"
     ]
    }
   ],
   "source": [
    "def main():\n",
    "# Функция создает тот самый список пользователей\n",
    "    def acquire(n):\n",
    "        spisok = []\n",
    "        for i in range(n):\n",
    "            spisok.append([])\n",
    "            spisok[i].append(str(input(\"Имя: \")))\n",
    "            spisok[i][0] += \" \" + str(input(\"Фамилия: \"))\n",
    "            spisok[i].append(str(input(\"Почтовый индекс: \")))\n",
    "        return spisok\n",
    "# Функция преобразует список пользователей в словарь    \n",
    "    def santa_users(user_list):\n",
    "        santa_dict = {}\n",
    "        for e in user_list:\n",
    "            if e[1] != \"\":\n",
    "                santa_dict[e[0]] = e[1]\n",
    "            else:\n",
    "                santa_dict[e[0]] = None\n",
    "        return santa_dict\n",
    "    \n",
    "# Начинаем работать с функциями    \n",
    "    santa_list = acquire(int(input(\"Кол-во пользователей: \")))\n",
    "    answr_dict = santa_users(santa_list)\n",
    "    print(answr_dict)\n",
    "    \n",
    "    \n",
    "if __name__ == \"__main__\":\n",
    "    main()"
   ]
  },
  {
   "cell_type": "code",
   "execution_count": null,
   "id": "c85a0992",
   "metadata": {},
   "outputs": [],
   "source": []
  }
 ],
 "metadata": {
  "kernelspec": {
   "display_name": "Python 3 (ipykernel)",
   "language": "python",
   "name": "python3"
  },
  "language_info": {
   "codemirror_mode": {
    "name": "ipython",
    "version": 3
   },
   "file_extension": ".py",
   "mimetype": "text/x-python",
   "name": "python",
   "nbconvert_exporter": "python",
   "pygments_lexer": "ipython3",
   "version": "3.9.13"
  }
 },
 "nbformat": 4,
 "nbformat_minor": 5
}
