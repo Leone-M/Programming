{
 "cells": [
  {
   "cell_type": "code",
   "execution_count": 4,
   "id": "f6a585af",
   "metadata": {},
   "outputs": [
    {
     "name": "stdout",
     "output_type": "stream",
     "text": [
      "MCMXCIV\n",
      "Римское число MCMXCIV\n",
      "Арабское число: 1994\n"
     ]
    }
   ],
   "source": [
    "def main():\n",
    "    def transl(rome_num):\n",
    "        print(\"Римское число %s\" % (rome_num))\n",
    "        arb_num = 0\n",
    "        values = {\"I\": 1, \"V\": 5, \"X\": 10, \"L\": 50, \"C\": 100, \"D\": 500, \"M\": 1000, \"IV\": 4, \"IX\": 9, \"XL\": 40, \"XC\": 90,\n",
    "                  \"CD\": 400, \"CM\": 900}\n",
    "\n",
    "        i = 1\n",
    "        while i <= len(rome_num):\n",
    "            if i != len(rome_num):\n",
    "                buf = rome_num[i - 1] + rome_num[i]\n",
    "            else:\n",
    "                buf = rome_num[i - 1]\n",
    "            if buf in values.keys():\n",
    "                arb_num += values[buf]\n",
    "                i += 2\n",
    "            else:\n",
    "                buf = rome_num[i - 1]\n",
    "                arb_num += values[buf]\n",
    "                i += 1\n",
    "\n",
    "        return \"Арабское число: %i\" % arb_num\n",
    "\n",
    "    print(transl(str(input())))\n",
    "\n",
    "\n",
    "if __name__ == \"__main__\":\n",
    "    main()"
   ]
  },
  {
   "cell_type": "code",
   "execution_count": null,
   "id": "3a1c769c",
   "metadata": {},
   "outputs": [],
   "source": []
  }
 ],
 "metadata": {
  "kernelspec": {
   "display_name": "Python 3 (ipykernel)",
   "language": "python",
   "name": "python3"
  },
  "language_info": {
   "codemirror_mode": {
    "name": "ipython",
    "version": 3
   },
   "file_extension": ".py",
   "mimetype": "text/x-python",
   "name": "python",
   "nbconvert_exporter": "python",
   "pygments_lexer": "ipython3",
   "version": "3.9.13"
  }
 },
 "nbformat": 4,
 "nbformat_minor": 5
}
