{
 "cells": [
  {
   "cell_type": "code",
   "execution_count": null,
   "id": "0e155188",
   "metadata": {},
   "outputs": [],
   "source": [
    "class InvalidDataFormat(Exception):\n",
    "    ...\n",
    "class InvalidEmail(InvalidDataFormat):\n",
    "    ...\n",
    "class InvalidAge(InvalidDataFormat):\n",
    "    ...\n",
    "class InvalidName(Exception):\n",
    "    ...\n",
    "class AgeExpected(Exception):\n",
    "    ...\n",
    "\n",
    "def data_validation(name:str, email:str, age:int):\n",
    "    if name in User.other_names: raise InvalidName\n",
    "    if email[:email.rfind(\"@\")] == \"\" or email[email.rfind(\"@\")+1:] == \"\": raise InvalidEmail\n",
    "    if not(isinstance(age, int)) or age < 0: raise InvalidAge\n",
    "    if age < 16: raise AgeExpected\n",
    "\n",
    "class User:\n",
    "    other_names = []\n",
    "    name:int\n",
    "    email:str\n",
    "    age:int\n",
    "\n",
    "    def __init__(self, name:str, email:str, age:int):\n",
    "        self.name = name\n",
    "        User.other_names.append(name)\n",
    "        self.email = email\n",
    "        self.age = age"
   ]
  },
  {
   "cell_type": "code",
   "execution_count": null,
   "id": "40b6bbb0",
   "metadata": {},
   "outputs": [],
   "source": [
    "user_data = [(\"Marta\", \"uemrfj@faij\", 18), (\"Marta\", \"wdiadj@jfi\", 17), (\"Max\", \"ektwd@\", 19), (\"Maxwell\", \"feokf@feg\", -12), (\"Matios\", \"21dfqw@fasd\", 14)]\n",
    "\n",
    "\n",
    "validated_users = []\n",
    "for user in user_data:\n",
    "    try:\n",
    "        data_validation(*user)\n",
    "    except InvalidName:\n",
    "        print(\"Name is already used\")\n",
    "        continue\n",
    "    except InvalidEmail:\n",
    "        print(\"Email format is Invalid\")\n",
    "        continue\n",
    "    except InvalidAge:\n",
    "        print(\"Age must be positive integer\")\n",
    "        continue\n",
    "    except AgeExpected:\n",
    "        print(\"Age expected 16 or more\")\n",
    "        continue\n",
    "    validated_users.append(User(*user))\n",
    "\n",
    "print(*validated_users)"
   ]
  }
 ],
 "metadata": {
  "kernelspec": {
   "display_name": "Python 3 (ipykernel)",
   "language": "python",
   "name": "python3"
  },
  "language_info": {
   "codemirror_mode": {
    "name": "ipython",
    "version": 3
   },
   "file_extension": ".py",
   "mimetype": "text/x-python",
   "name": "python",
   "nbconvert_exporter": "python",
   "pygments_lexer": "ipython3",
   "version": "3.9.13"
  }
 },
 "nbformat": 4,
 "nbformat_minor": 5
}
