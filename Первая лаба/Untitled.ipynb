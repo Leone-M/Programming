{
 "cells": [
  {
   "cell_type": "code",
   "execution_count": null,
   "id": "0a618e82",
   "metadata": {},
   "outputs": [],
   "source": [
    "def rec(arr: list, c: int, n: int, sum: int, signs: list, sign: str) -> list:\n",
    "    if n == len(arr) - 1 and sum + arr[n] == c: # 1 из 3 базовых случаев\n",
    "        signs[-1] = \"+\"\n",
    "        return signs\n",
    "    elif n == len(arr) - 1 and sum - arr[n] == c: # 2 из 3 базовых случаев\n",
    "        signs[-1] = \"-\"\n",
    "        return signs\n",
    "    elif n == len(arr) - 1: # 3 из 3 базовых случаев\n",
    "        signs[-1] = \"*\" # * будет знаком ложности\n",
    "        return signs\n",
    "    else:\n",
    "        bf = rec(arr, c, n+1, sum + arr[n], signs, \"+\") # сумма с плюсом\n",
    "        if bf[n+1] != \"*\": # проверяет получилась ли сумма если знак +\n",
    "            signs = bf\n",
    "            signs[n] = \"+\"\n",
    "            return signs # выводим список знаков делая текущий плюсом\n",
    "        else:\n",
    "            bf = rec(arr, c, n+1, sum - arr[n], signs, \"-\") # если знак -\n",
    "            if bf[n+1] != \"*\":\n",
    "                signs = bf\n",
    "                signs[n] = \"-\"\n",
    "                return signs # выводим список знаков делая текущий минусом\n",
    "            else: # если стоял знак ложности(не получилась сумма)\n",
    "                signs = bf\n",
    "                signs[n] = \"*\"\n",
    "                return signs # выводим список знаков делая текущий знаком ложности\n",
    "def main():\n",
    "    files = open(\"input(lab1).txt\", \"r\", encoding=\"utf-8\")  # Файл с входящими данными\n",
    "\n",
    "    sub = files.read().split(\" \")  # Строка с данными\n",
    "\n",
    "    n = int(sub[0])  # Кол-во чисел\n",
    "    s = int(sub[-1])  # Целевое число\n",
    "    sub = sub[1:-1]  # Выделяем ряд чисел на вход\n",
    "    sim = [int(e) for e in sub]  # Вносим все числа в список в формате Int\n",
    "\n",
    "    files.close()  # Обязательно\n",
    "\n",
    "    zn = [\"\" for _ in range(n)]\n",
    "    zn = rec(sim, s, 1, sim[0], zn, \"\") # на выходе получается список со знаками\n",
    "\n",
    "    otv = \"\"\n",
    "    if \"*\" in zn:\n",
    "        otv = \"no solution\" # если список забит знаками ложности - no solution\n",
    "    else: # иначе в переменную ответа записываем знак и его число\n",
    "        for i in range(n):\n",
    "            otv += zn[i]\n",
    "            otv += str(sim[i])\n",
    "        otv += \"=%i\" %s\n",
    "\n",
    "    # запись в файл\n",
    "    output = open(\"output(1lab).txt\", \"w\", encoding=\"utf-8\")\n",
    "    output.write(otv)\n",
    "    output.close() # обязательно\n",
    "\n",
    "if __name__ == \"__main__\":\n",
    "    main()"
   ]
  },
  {
   "cell_type": "code",
   "execution_count": null,
   "id": "8a198482",
   "metadata": {},
   "outputs": [],
   "source": []
  }
 ],
 "metadata": {
  "kernelspec": {
   "display_name": "Python 3 (ipykernel)",
   "language": "python",
   "name": "python3"
  },
  "language_info": {
   "codemirror_mode": {
    "name": "ipython",
    "version": 3
   },
   "file_extension": ".py",
   "mimetype": "text/x-python",
   "name": "python",
   "nbconvert_exporter": "python",
   "pygments_lexer": "ipython3",
   "version": "3.9.13"
  }
 },
 "nbformat": 4,
 "nbformat_minor": 5
}
